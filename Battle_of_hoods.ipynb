{
  "nbformat": 4,
  "nbformat_minor": 0,
  "metadata": {
    "colab": {
      "name": "Battle_of_hoods.ipynb",
      "version": "0.3.2",
      "provenance": []
    },
    "kernelspec": {
      "name": "python3",
      "display_name": "Python 3"
    }
  },
  "cells": [
    {
      "cell_type": "markdown",
      "metadata": {
        "id": "4EW1e6Jpso2f",
        "colab_type": "text"
      },
      "source": [
        "# Analyzing Restaurants in Ahmedabad"
      ]
    },
    {
      "cell_type": "code",
      "metadata": {
        "id": "ee6taQ32szJP",
        "colab_type": "code",
        "colab": {}
      },
      "source": [
        "import requests\n",
        "import pandas as pd\n",
        "import numpy as np\n",
        "from pandas.io.json import json_normalize"
      ],
      "execution_count": 0,
      "outputs": []
    },
    {
      "cell_type": "code",
      "metadata": {
        "id": "fxZPX3Sfzm5o",
        "colab_type": "code",
        "colab": {}
      },
      "source": [
        "CLIENT_ID = '4EDTWLS3HUX5C4BFIANTNTGN1VGNCDJDNPC5HX3KU2MKM3SP' # your Foursquare ID\n",
        "CLIENT_SECRET = 'CN3MRIKHFLGVLQEJBLYRBEM0JBYQS1PCNEX0K4GAAEFQNZBN' # your Foursquare Secret\n",
        "VERSION = '20190913' # Foursquare API version\n",
        "downtor_lat = 23.033863\n",
        "downtor_long = 72.585022\n",
        "LIMIT = 50\n",
        "radius = 15000\n",
        "\n",
        "url = 'https://api.foursquare.com/v2/venues/explore?&client_id={}&client_secret={}&v={}&ll={},{}&radius={}&limit={}'.format(\n",
        "                CLIENT_ID, \n",
        "                CLIENT_SECRET, \n",
        "                VERSION, \n",
        "                downtor_lat, \n",
        "                downtor_long, \n",
        "                radius, \n",
        "                LIMIT)\n",
        "results = requests.get(url).json()"
      ],
      "execution_count": 0,
      "outputs": []
    },
    {
      "cell_type": "code",
      "metadata": {
        "id": "5tw22-Bm2XoB",
        "colab_type": "code",
        "colab": {}
      },
      "source": [
        "# function that extracts the category of the venue\n",
        "def get_category_type(row):\n",
        "    try:\n",
        "        categories_list = row['categories']\n",
        "    except:\n",
        "        categories_list = row['venue.categories']\n",
        "        \n",
        "    if (len(categories_list) == 0) and (categories_list[0]['id'] != '4d4b7105d754a06374d81259'):\n",
        "        return None\n",
        "    else:\n",
        "        return categories_list[0]['name']"
      ],
      "execution_count": 0,
      "outputs": []
    },
    {
      "cell_type": "code",
      "metadata": {
        "id": "18gN-s4O0JJh",
        "colab_type": "code",
        "colab": {
          "base_uri": "https://localhost:8080/",
          "height": 206
        },
        "outputId": "0a5bdc2d-7623-42c6-c032-5b6857b256c0"
      },
      "source": [
        "venues = results['response']['groups'][0]['items']\n",
        "    \n",
        "nearby_venues = json_normalize(venues) # flatten JSON\n",
        "\n",
        "# filter columns\n",
        "filtered_columns = ['venue.name', 'venue.categories', 'venue.location.lat', 'venue.location.lng']\n",
        "nearby_venues =nearby_venues.loc[:, filtered_columns]\n",
        "\n",
        "# filter the category for each row\n",
        "nearby_venues['venue.categories'] = nearby_venues.apply(get_category_type, axis=1)\n",
        "\n",
        "# clean columns\n",
        "nearby_venues.columns = [col.split(\".\")[-1] for col in nearby_venues.columns]\n",
        "\n",
        "nearby_venues.head()"
      ],
      "execution_count": 25,
      "outputs": [
        {
          "output_type": "execute_result",
          "data": {
            "text/html": [
              "<div>\n",
              "<style scoped>\n",
              "    .dataframe tbody tr th:only-of-type {\n",
              "        vertical-align: middle;\n",
              "    }\n",
              "\n",
              "    .dataframe tbody tr th {\n",
              "        vertical-align: top;\n",
              "    }\n",
              "\n",
              "    .dataframe thead th {\n",
              "        text-align: right;\n",
              "    }\n",
              "</style>\n",
              "<table border=\"1\" class=\"dataframe\">\n",
              "  <thead>\n",
              "    <tr style=\"text-align: right;\">\n",
              "      <th></th>\n",
              "      <th>name</th>\n",
              "      <th>categories</th>\n",
              "      <th>lat</th>\n",
              "      <th>lng</th>\n",
              "    </tr>\n",
              "  </thead>\n",
              "  <tbody>\n",
              "    <tr>\n",
              "      <th>0</th>\n",
              "      <td>Manek Chowk Khau Gali</td>\n",
              "      <td>Snack Place</td>\n",
              "      <td>23.023505</td>\n",
              "      <td>72.588539</td>\n",
              "    </tr>\n",
              "    <tr>\n",
              "      <th>1</th>\n",
              "      <td>Manek Chowk</td>\n",
              "      <td>Fast Food Restaurant</td>\n",
              "      <td>23.023626</td>\n",
              "      <td>72.588553</td>\n",
              "    </tr>\n",
              "    <tr>\n",
              "      <th>2</th>\n",
              "      <td>The Sports Club of Gujarat</td>\n",
              "      <td>Cricket Ground</td>\n",
              "      <td>23.040991</td>\n",
              "      <td>72.564349</td>\n",
              "    </tr>\n",
              "    <tr>\n",
              "      <th>3</th>\n",
              "      <td>Crossword</td>\n",
              "      <td>Bookstore</td>\n",
              "      <td>23.032656</td>\n",
              "      <td>72.565404</td>\n",
              "    </tr>\n",
              "    <tr>\n",
              "      <th>4</th>\n",
              "      <td>Lucky Tea</td>\n",
              "      <td>Tea Room</td>\n",
              "      <td>23.027829</td>\n",
              "      <td>72.581394</td>\n",
              "    </tr>\n",
              "  </tbody>\n",
              "</table>\n",
              "</div>"
            ],
            "text/plain": [
              "                         name            categories        lat        lng\n",
              "0       Manek Chowk Khau Gali           Snack Place  23.023505  72.588539\n",
              "1                 Manek Chowk  Fast Food Restaurant  23.023626  72.588553\n",
              "2  The Sports Club of Gujarat        Cricket Ground  23.040991  72.564349\n",
              "3                   Crossword             Bookstore  23.032656  72.565404\n",
              "4                   Lucky Tea              Tea Room  23.027829  72.581394"
            ]
          },
          "metadata": {
            "tags": []
          },
          "execution_count": 25
        }
      ]
    },
    {
      "cell_type": "code",
      "metadata": {
        "id": "GIG52f9x25yH",
        "colab_type": "code",
        "colab": {
          "base_uri": "https://localhost:8080/",
          "height": 124
        },
        "outputId": "a5400696-b0c3-4178-e669-1e112ced3815"
      },
      "source": [
        "from google.colab import drive\n",
        "drive.mount('/content/gdrive')"
      ],
      "execution_count": 13,
      "outputs": [
        {
          "output_type": "stream",
          "text": [
            "Go to this URL in a browser: https://accounts.google.com/o/oauth2/auth?client_id=947318989803-6bn6qk8qdgf4n4g3pfee6491hc0brc4i.apps.googleusercontent.com&redirect_uri=urn%3Aietf%3Awg%3Aoauth%3A2.0%3Aoob&scope=email%20https%3A%2F%2Fwww.googleapis.com%2Fauth%2Fdocs.test%20https%3A%2F%2Fwww.googleapis.com%2Fauth%2Fdrive%20https%3A%2F%2Fwww.googleapis.com%2Fauth%2Fdrive.photos.readonly%20https%3A%2F%2Fwww.googleapis.com%2Fauth%2Fpeopleapi.readonly&response_type=code\n",
            "\n",
            "Enter your authorization code:\n",
            "··········\n",
            "Mounted at /content/gdrive\n"
          ],
          "name": "stdout"
        }
      ]
    },
    {
      "cell_type": "code",
      "metadata": {
        "id": "S_eJCBphFKwn",
        "colab_type": "code",
        "colab": {
          "base_uri": "https://localhost:8080/",
          "height": 449
        },
        "outputId": "865c1131-aaaf-4df3-8436-2690c96c710b"
      },
      "source": [
        "zomato_df = pd.read_csv('gdrive/My Drive/zomato.csv')\n",
        "zomato_df.drop(['Longitude', 'Latitude', 'Locality', 'Locality Verbose', 'Restaurant ID', 'Switch to order menu', 'Currency', 'Votes'], axis=1, inplace=True)\n",
        "zomato_df.head()"
      ],
      "execution_count": 26,
      "outputs": [
        {
          "output_type": "execute_result",
          "data": {
            "text/html": [
              "<div>\n",
              "<style scoped>\n",
              "    .dataframe tbody tr th:only-of-type {\n",
              "        vertical-align: middle;\n",
              "    }\n",
              "\n",
              "    .dataframe tbody tr th {\n",
              "        vertical-align: top;\n",
              "    }\n",
              "\n",
              "    .dataframe thead th {\n",
              "        text-align: right;\n",
              "    }\n",
              "</style>\n",
              "<table border=\"1\" class=\"dataframe\">\n",
              "  <thead>\n",
              "    <tr style=\"text-align: right;\">\n",
              "      <th></th>\n",
              "      <th>Restaurant Name</th>\n",
              "      <th>Country Code</th>\n",
              "      <th>City</th>\n",
              "      <th>Address</th>\n",
              "      <th>Cuisines</th>\n",
              "      <th>Average Cost for two</th>\n",
              "      <th>Has Table booking</th>\n",
              "      <th>Has Online delivery</th>\n",
              "      <th>Is delivering now</th>\n",
              "      <th>Price range</th>\n",
              "      <th>Aggregate rating</th>\n",
              "      <th>Rating color</th>\n",
              "      <th>Rating text</th>\n",
              "    </tr>\n",
              "  </thead>\n",
              "  <tbody>\n",
              "    <tr>\n",
              "      <th>0</th>\n",
              "      <td>Mama Lou's Italian Kitchen</td>\n",
              "      <td>162</td>\n",
              "      <td>Las Piñas City</td>\n",
              "      <td>Block 1, Lot 36, Tropical Avenue Corner Tropic...</td>\n",
              "      <td>Italian</td>\n",
              "      <td>1100</td>\n",
              "      <td>1</td>\n",
              "      <td>0</td>\n",
              "      <td>0</td>\n",
              "      <td>3</td>\n",
              "      <td>4.6</td>\n",
              "      <td>3F7E00</td>\n",
              "      <td>Excellent</td>\n",
              "    </tr>\n",
              "    <tr>\n",
              "      <th>1</th>\n",
              "      <td>Mama Lou's Italian Kitchen</td>\n",
              "      <td>162</td>\n",
              "      <td>Las Piñas City</td>\n",
              "      <td>Block 1, Lot 36, Tropical Avenue Corner Tropic...</td>\n",
              "      <td>Italian</td>\n",
              "      <td>1100</td>\n",
              "      <td>1</td>\n",
              "      <td>0</td>\n",
              "      <td>0</td>\n",
              "      <td>3</td>\n",
              "      <td>4.6</td>\n",
              "      <td>3F7E00</td>\n",
              "      <td>Excellent</td>\n",
              "    </tr>\n",
              "    <tr>\n",
              "      <th>2</th>\n",
              "      <td>Blackbird</td>\n",
              "      <td>162</td>\n",
              "      <td>Makati City</td>\n",
              "      <td>Nielson Tower, Ayala Triangle Gardens, Salcedo...</td>\n",
              "      <td>European, Asian</td>\n",
              "      <td>3100</td>\n",
              "      <td>0</td>\n",
              "      <td>0</td>\n",
              "      <td>0</td>\n",
              "      <td>4</td>\n",
              "      <td>4.7</td>\n",
              "      <td>3F7E00</td>\n",
              "      <td>Excellent</td>\n",
              "    </tr>\n",
              "    <tr>\n",
              "      <th>3</th>\n",
              "      <td>Banapple</td>\n",
              "      <td>162</td>\n",
              "      <td>Makati City</td>\n",
              "      <td>Ayala Triangle Gardens, Salcedo Village, Makat...</td>\n",
              "      <td>Filipino, American, Italian, Bakery</td>\n",
              "      <td>800</td>\n",
              "      <td>0</td>\n",
              "      <td>0</td>\n",
              "      <td>0</td>\n",
              "      <td>3</td>\n",
              "      <td>4.4</td>\n",
              "      <td>5BA829</td>\n",
              "      <td>Very Good</td>\n",
              "    </tr>\n",
              "    <tr>\n",
              "      <th>4</th>\n",
              "      <td>Bad Bird</td>\n",
              "      <td>162</td>\n",
              "      <td>Makati City</td>\n",
              "      <td>Hole In The Wall, Floor 4, Century City Mall, ...</td>\n",
              "      <td>American</td>\n",
              "      <td>700</td>\n",
              "      <td>0</td>\n",
              "      <td>0</td>\n",
              "      <td>0</td>\n",
              "      <td>3</td>\n",
              "      <td>4.4</td>\n",
              "      <td>5BA829</td>\n",
              "      <td>Very Good</td>\n",
              "    </tr>\n",
              "  </tbody>\n",
              "</table>\n",
              "</div>"
            ],
            "text/plain": [
              "              Restaurant Name  Country Code  ... Rating color Rating text\n",
              "0  Mama Lou's Italian Kitchen           162  ...       3F7E00   Excellent\n",
              "1  Mama Lou's Italian Kitchen           162  ...       3F7E00   Excellent\n",
              "2                   Blackbird           162  ...       3F7E00   Excellent\n",
              "3                    Banapple           162  ...       5BA829   Very Good\n",
              "4                    Bad Bird           162  ...       5BA829   Very Good\n",
              "\n",
              "[5 rows x 13 columns]"
            ]
          },
          "metadata": {
            "tags": []
          },
          "execution_count": 26
        }
      ]
    },
    {
      "cell_type": "code",
      "metadata": {
        "id": "rDjGEYngIIe9",
        "colab_type": "code",
        "colab": {
          "base_uri": "https://localhost:8080/",
          "height": 501
        },
        "outputId": "b5fcfc1e-39d8-4cef-909d-d354f0b41f45"
      },
      "source": [
        "abad_rest = zomato_df[zomato_df.City == 'Ahmedabad']\n",
        "abad_rest.head()"
      ],
      "execution_count": 27,
      "outputs": [
        {
          "output_type": "execute_result",
          "data": {
            "text/html": [
              "<div>\n",
              "<style scoped>\n",
              "    .dataframe tbody tr th:only-of-type {\n",
              "        vertical-align: middle;\n",
              "    }\n",
              "\n",
              "    .dataframe tbody tr th {\n",
              "        vertical-align: top;\n",
              "    }\n",
              "\n",
              "    .dataframe thead th {\n",
              "        text-align: right;\n",
              "    }\n",
              "</style>\n",
              "<table border=\"1\" class=\"dataframe\">\n",
              "  <thead>\n",
              "    <tr style=\"text-align: right;\">\n",
              "      <th></th>\n",
              "      <th>Restaurant Name</th>\n",
              "      <th>Country Code</th>\n",
              "      <th>City</th>\n",
              "      <th>Address</th>\n",
              "      <th>Cuisines</th>\n",
              "      <th>Average Cost for two</th>\n",
              "      <th>Has Table booking</th>\n",
              "      <th>Has Online delivery</th>\n",
              "      <th>Is delivering now</th>\n",
              "      <th>Price range</th>\n",
              "      <th>Aggregate rating</th>\n",
              "      <th>Rating color</th>\n",
              "      <th>Rating text</th>\n",
              "    </tr>\n",
              "  </thead>\n",
              "  <tbody>\n",
              "    <tr>\n",
              "      <th>2608</th>\n",
              "      <td>Millhouse</td>\n",
              "      <td>1</td>\n",
              "      <td>Ahmedabad</td>\n",
              "      <td>3rd Floor, Ahmedabad One Mall, Vastrapur, Ahme...</td>\n",
              "      <td>Continental, Italian</td>\n",
              "      <td>1200</td>\n",
              "      <td>0</td>\n",
              "      <td>1</td>\n",
              "      <td>1</td>\n",
              "      <td>3</td>\n",
              "      <td>4.2</td>\n",
              "      <td>5BA829</td>\n",
              "      <td>Very Good</td>\n",
              "    </tr>\n",
              "    <tr>\n",
              "      <th>2609</th>\n",
              "      <td>Huber &amp; Holly</td>\n",
              "      <td>1</td>\n",
              "      <td>Ahmedabad</td>\n",
              "      <td>7 B, Pakwan Cross Road, Boadakdev, Ahmedabad</td>\n",
              "      <td>Cafe, Desserts</td>\n",
              "      <td>800</td>\n",
              "      <td>0</td>\n",
              "      <td>1</td>\n",
              "      <td>0</td>\n",
              "      <td>3</td>\n",
              "      <td>4.8</td>\n",
              "      <td>3F7E00</td>\n",
              "      <td>Excellent</td>\n",
              "    </tr>\n",
              "    <tr>\n",
              "      <th>2610</th>\n",
              "      <td>La Pino'z Pizza</td>\n",
              "      <td>1</td>\n",
              "      <td>Ahmedabad</td>\n",
              "      <td>Shop 10,  Circle B, Nyay Marg, Bodakdev, Ahmed...</td>\n",
              "      <td>Pizza</td>\n",
              "      <td>500</td>\n",
              "      <td>0</td>\n",
              "      <td>1</td>\n",
              "      <td>1</td>\n",
              "      <td>2</td>\n",
              "      <td>4.5</td>\n",
              "      <td>3F7E00</td>\n",
              "      <td>Excellent</td>\n",
              "    </tr>\n",
              "    <tr>\n",
              "      <th>2611</th>\n",
              "      <td>Rp's Pizzeria</td>\n",
              "      <td>1</td>\n",
              "      <td>Ahmedabad</td>\n",
              "      <td>1, 2, 3 Prime Plaza, Opposite DLA School, NFD ...</td>\n",
              "      <td>Pizza, Italian</td>\n",
              "      <td>550</td>\n",
              "      <td>0</td>\n",
              "      <td>1</td>\n",
              "      <td>1</td>\n",
              "      <td>2</td>\n",
              "      <td>4.5</td>\n",
              "      <td>3F7E00</td>\n",
              "      <td>Excellent</td>\n",
              "    </tr>\n",
              "    <tr>\n",
              "      <th>2612</th>\n",
              "      <td>Rp's Pizzeria</td>\n",
              "      <td>1</td>\n",
              "      <td>Ahmedabad</td>\n",
              "      <td>1, 2, 3 Prime Plaza, Opposite DLA School, NFD ...</td>\n",
              "      <td>Pizza, Italian</td>\n",
              "      <td>550</td>\n",
              "      <td>0</td>\n",
              "      <td>1</td>\n",
              "      <td>1</td>\n",
              "      <td>2</td>\n",
              "      <td>4.5</td>\n",
              "      <td>3F7E00</td>\n",
              "      <td>Excellent</td>\n",
              "    </tr>\n",
              "  </tbody>\n",
              "</table>\n",
              "</div>"
            ],
            "text/plain": [
              "      Restaurant Name  Country Code  ... Rating color Rating text\n",
              "2608        Millhouse             1  ...       5BA829   Very Good\n",
              "2609    Huber & Holly             1  ...       3F7E00   Excellent\n",
              "2610  La Pino'z Pizza             1  ...       3F7E00   Excellent\n",
              "2611    Rp's Pizzeria             1  ...       3F7E00   Excellent\n",
              "2612    Rp's Pizzeria             1  ...       3F7E00   Excellent\n",
              "\n",
              "[5 rows x 13 columns]"
            ]
          },
          "metadata": {
            "tags": []
          },
          "execution_count": 27
        }
      ]
    },
    {
      "cell_type": "code",
      "metadata": {
        "id": "1GrgWlbqKAvK",
        "colab_type": "code",
        "colab": {
          "base_uri": "https://localhost:8080/",
          "height": 34
        },
        "outputId": "061f7024-5c94-474f-f2fb-d67a74975b30"
      },
      "source": [
        "abad_rest.shape"
      ],
      "execution_count": 28,
      "outputs": [
        {
          "output_type": "execute_result",
          "data": {
            "text/plain": [
              "(88, 13)"
            ]
          },
          "metadata": {
            "tags": []
          },
          "execution_count": 28
        }
      ]
    },
    {
      "cell_type": "code",
      "metadata": {
        "id": "qVI-TmRTLxGu",
        "colab_type": "code",
        "colab": {
          "base_uri": "https://localhost:8080/",
          "height": 34
        },
        "outputId": "cc12978b-0723-4452-f2bd-7665b9845cc8"
      },
      "source": [
        "nearby_venues.shape"
      ],
      "execution_count": 29,
      "outputs": [
        {
          "output_type": "execute_result",
          "data": {
            "text/plain": [
              "(50, 4)"
            ]
          },
          "metadata": {
            "tags": []
          },
          "execution_count": 29
        }
      ]
    },
    {
      "cell_type": "code",
      "metadata": {
        "id": "bzeAyG3gL6A0",
        "colab_type": "code",
        "colab": {}
      },
      "source": [
        ""
      ],
      "execution_count": 0,
      "outputs": []
    }
  ]
}