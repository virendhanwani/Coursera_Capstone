{
  "nbformat": 4,
  "nbformat_minor": 0,
  "metadata": {
    "colab": {
      "name": "Battle_of_hoods.ipynb",
      "version": "0.3.2",
      "provenance": []
    },
    "kernelspec": {
      "name": "python3",
      "display_name": "Python 3"
    }
  },
  "cells": [
    {
      "cell_type": "markdown",
      "metadata": {
        "id": "4EW1e6Jpso2f",
        "colab_type": "text"
      },
      "source": [
        "# Analyzing Restaurants in Ahmedabad"
      ]
    },
    {
      "cell_type": "code",
      "metadata": {
        "id": "ee6taQ32szJP",
        "colab_type": "code",
        "colab": {}
      },
      "source": [
        ""
      ],
      "execution_count": 0,
      "outputs": []
    }
  ]
}