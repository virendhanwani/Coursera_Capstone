{
  "nbformat": 4,
  "nbformat_minor": 0,
  "metadata": {
    "kernelspec": {
      "display_name": "Python 3",
      "language": "python",
      "name": "python3"
    },
    "language_info": {
      "codemirror_mode": {
        "name": "ipython",
        "version": 3
      },
      "file_extension": ".py",
      "mimetype": "text/x-python",
      "name": "python",
      "nbconvert_exporter": "python",
      "pygments_lexer": "ipython3",
      "version": "3.6.8"
    },
    "colab": {
      "name": "Week3_assignment.ipynb",
      "version": "0.3.2",
      "provenance": []
    }
  },
  "cells": [
    {
      "cell_type": "markdown",
      "metadata": {
        "id": "qadzeH7MxbTq",
        "colab_type": "text"
      },
      "source": [
        "# Neighborhoods in Toronto (data on Wikipedia was last updated on 15 July 2019)"
      ]
    },
    {
      "cell_type": "markdown",
      "metadata": {
        "id": "MPYCChYn8h89",
        "colab_type": "text"
      },
      "source": [
        "## Importing Required Libraries"
      ]
    },
    {
      "cell_type": "code",
      "metadata": {
        "id": "UW_9yQpvxbT1",
        "colab_type": "code",
        "colab": {}
      },
      "source": [
        "import requests\n",
        "import pandas as pd\n",
        "from bs4 import BeautifulSoup"
      ],
      "execution_count": 0,
      "outputs": []
    },
    {
      "cell_type": "markdown",
      "metadata": {
        "id": "L7G4jKci8qH6",
        "colab_type": "text"
      },
      "source": [
        "## Scraping the Wikipedia page and getting the table content"
      ]
    },
    {
      "cell_type": "code",
      "metadata": {
        "id": "MPTD6kUxz_ZE",
        "colab_type": "code",
        "colab": {}
      },
      "source": [
        "wiki = requests.get('https://en.wikipedia.org/wiki/List_of_postal_codes_of_Canada:_M')\n",
        "wiki_content = wiki.content\n",
        "soup = BeautifulSoup(wiki_content)\n",
        "table_content = soup.find('table', attrs = {'class': 'wikitable'})\n",
        "table_rows = table_content.find_all('tr')\n"
      ],
      "execution_count": 0,
      "outputs": []
    },
    {
      "cell_type": "markdown",
      "metadata": {
        "id": "_TVKj_Tc9AJV",
        "colab_type": "text"
      },
      "source": [
        "## Transforming table content in pandas dataframe and removing rows having values 'Not assigned'"
      ]
    },
    {
      "cell_type": "code",
      "metadata": {
        "id": "ok3S-YLT8-pJ",
        "colab_type": "code",
        "colab": {}
      },
      "source": [
        "res = []\n",
        "for tr in table_rows:\n",
        "    td = tr.find_all('td')\n",
        "    row = [tr.text.strip() for tr in td if tr.text.strip()]\n",
        "    if row:\n",
        "        res.append(row)\n",
        "\n",
        "\n",
        "df = pd.DataFrame(res, columns=[\"Postcode\", \"Borough\", \"Neighborhood\"])\n",
        "df = df[df.Borough != 'Not assigned']\n",
        "df = df[df.Neighborhood != 'Not assigned']"
      ],
      "execution_count": 0,
      "outputs": []
    },
    {
      "cell_type": "code",
      "metadata": {
        "id": "LvQ-CmR_9PmY",
        "colab_type": "code",
        "colab": {}
      },
      "source": [
        "## Combining rows on basis of Boroughs"
      ],
      "execution_count": 0,
      "outputs": []
    },
    {
      "cell_type": "code",
      "metadata": {
        "id": "aUEvVIrM0WqW",
        "colab_type": "code",
        "colab": {
          "base_uri": "https://localhost:8080/",
          "height": 363
        },
        "outputId": "9b364a6b-2dde-4839-fe77-90147e0b89c4"
      },
      "source": [
        "df = df.groupby('Borough').agg({'Postcode':'first', \n",
        "                             'Neighborhood': ', '.join }).reset_index()\n",
        "df"
      ],
      "execution_count": 26,
      "outputs": [
        {
          "output_type": "execute_result",
          "data": {
            "text/html": [
              "<div>\n",
              "<style scoped>\n",
              "    .dataframe tbody tr th:only-of-type {\n",
              "        vertical-align: middle;\n",
              "    }\n",
              "\n",
              "    .dataframe tbody tr th {\n",
              "        vertical-align: top;\n",
              "    }\n",
              "\n",
              "    .dataframe thead th {\n",
              "        text-align: right;\n",
              "    }\n",
              "</style>\n",
              "<table border=\"1\" class=\"dataframe\">\n",
              "  <thead>\n",
              "    <tr style=\"text-align: right;\">\n",
              "      <th></th>\n",
              "      <th>Borough</th>\n",
              "      <th>Postcode</th>\n",
              "      <th>Neighborhood</th>\n",
              "    </tr>\n",
              "  </thead>\n",
              "  <tbody>\n",
              "    <tr>\n",
              "      <th>0</th>\n",
              "      <td>Central Toronto</td>\n",
              "      <td>M4N</td>\n",
              "      <td>Lawrence Park, Roselawn, Davisville North, For...</td>\n",
              "    </tr>\n",
              "    <tr>\n",
              "      <th>1</th>\n",
              "      <td>Downtown Toronto</td>\n",
              "      <td>M5A</td>\n",
              "      <td>Harbourfront, Regent Park, Ryerson, Garden Dis...</td>\n",
              "    </tr>\n",
              "    <tr>\n",
              "      <th>2</th>\n",
              "      <td>East Toronto</td>\n",
              "      <td>M4E</td>\n",
              "      <td>The Beaches, The Danforth West, Riverdale, The...</td>\n",
              "    </tr>\n",
              "    <tr>\n",
              "      <th>3</th>\n",
              "      <td>East York</td>\n",
              "      <td>M4B</td>\n",
              "      <td>Woodbine Gardens, Parkview Hill, Woodbine Heig...</td>\n",
              "    </tr>\n",
              "    <tr>\n",
              "      <th>4</th>\n",
              "      <td>Etobicoke</td>\n",
              "      <td>M9A</td>\n",
              "      <td>Islington Avenue, Cloverdale, Islington, Marti...</td>\n",
              "    </tr>\n",
              "    <tr>\n",
              "      <th>5</th>\n",
              "      <td>Mississauga</td>\n",
              "      <td>M7R</td>\n",
              "      <td>Canada Post Gateway Processing Centre</td>\n",
              "    </tr>\n",
              "    <tr>\n",
              "      <th>6</th>\n",
              "      <td>North York</td>\n",
              "      <td>M3A</td>\n",
              "      <td>Parkwoods, Victoria Village, Lawrence Heights,...</td>\n",
              "    </tr>\n",
              "    <tr>\n",
              "      <th>7</th>\n",
              "      <td>Scarborough</td>\n",
              "      <td>M1B</td>\n",
              "      <td>Rouge, Malvern, Highland Creek, Rouge Hill, Po...</td>\n",
              "    </tr>\n",
              "    <tr>\n",
              "      <th>8</th>\n",
              "      <td>West Toronto</td>\n",
              "      <td>M6H</td>\n",
              "      <td>Dovercourt Village, Dufferin, Little Portugal,...</td>\n",
              "    </tr>\n",
              "    <tr>\n",
              "      <th>9</th>\n",
              "      <td>York</td>\n",
              "      <td>M6C</td>\n",
              "      <td>Humewood-Cedarvale, Caledonia-Fairbanks, Del R...</td>\n",
              "    </tr>\n",
              "  </tbody>\n",
              "</table>\n",
              "</div>"
            ],
            "text/plain": [
              "            Borough Postcode                                       Neighborhood\n",
              "0   Central Toronto      M4N  Lawrence Park, Roselawn, Davisville North, For...\n",
              "1  Downtown Toronto      M5A  Harbourfront, Regent Park, Ryerson, Garden Dis...\n",
              "2      East Toronto      M4E  The Beaches, The Danforth West, Riverdale, The...\n",
              "3         East York      M4B  Woodbine Gardens, Parkview Hill, Woodbine Heig...\n",
              "4         Etobicoke      M9A  Islington Avenue, Cloverdale, Islington, Marti...\n",
              "5       Mississauga      M7R              Canada Post Gateway Processing Centre\n",
              "6        North York      M3A  Parkwoods, Victoria Village, Lawrence Heights,...\n",
              "7       Scarborough      M1B  Rouge, Malvern, Highland Creek, Rouge Hill, Po...\n",
              "8      West Toronto      M6H  Dovercourt Village, Dufferin, Little Portugal,...\n",
              "9              York      M6C  Humewood-Cedarvale, Caledonia-Fairbanks, Del R..."
            ]
          },
          "metadata": {
            "tags": []
          },
          "execution_count": 26
        }
      ]
    },
    {
      "cell_type": "markdown",
      "metadata": {
        "id": "W9AgvjoU9W8d",
        "colab_type": "text"
      },
      "source": [
        "## Using shape method to print number of rows in the dataframe"
      ]
    },
    {
      "cell_type": "code",
      "metadata": {
        "id": "vgamjcEv3Swt",
        "colab_type": "code",
        "colab": {
          "base_uri": "https://localhost:8080/",
          "height": 34
        },
        "outputId": "7ac80db3-cb33-4e64-ccb3-3dfe581ef160"
      },
      "source": [
        "df.shape"
      ],
      "execution_count": 27,
      "outputs": [
        {
          "output_type": "execute_result",
          "data": {
            "text/plain": [
              "(10, 3)"
            ]
          },
          "metadata": {
            "tags": []
          },
          "execution_count": 27
        }
      ]
    },
    {
      "cell_type": "code",
      "metadata": {
        "id": "AR5cWdhL9gRc",
        "colab_type": "code",
        "colab": {}
      },
      "source": [
        ""
      ],
      "execution_count": 0,
      "outputs": []
    }
  ]
}